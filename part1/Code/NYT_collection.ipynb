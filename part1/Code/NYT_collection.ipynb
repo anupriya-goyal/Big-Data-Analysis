{
  "nbformat": 4,
  "nbformat_minor": 0,
  "metadata": {
    "colab": {
      "name": "NYT_collection.ipynb",
      "version": "0.3.2",
      "provenance": []
    },
    "kernelspec": {
      "name": "python3",
      "display_name": "Python 3"
    }
  },
  "cells": [
    {
      "metadata": {
        "id": "gswPZ6-kqAcM",
        "colab_type": "code",
        "colab": {}
      },
      "cell_type": "code",
      "source": [
        "import bs4 as bs  \n",
        "import urllib.request\n",
        "import urllib.response\n",
        "import json\n",
        "from bs4 import BeautifulSoup\n",
        "import requests\n",
        "\n",
        "\n",
        "apiKey = 'cwA7Xfa4W56CX6txZ3JbIJ6EDbUVnlcW'\n",
        "\n",
        "#search term changed according to subtopic(elections, government, vote, political party) to collect other NYT articles\n",
        "searchTerm = 'trump'\n",
        "\n",
        "\n",
        "writeFile = open(\"NYT_Trump.txt\", \"a\", encoding='utf-8')\n",
        "for i in range(11):\n",
        "    print(i)\n",
        "    url = 'http://api.nytimes.com/svc/search/v2/articlesearch.json?q='+searchTerm+'&begin_date=20190201&end_date=' \\\n",
        "        '20190331&page='+str(i)+'&fl=web_url&api-key='+apiKey\n",
        "    resp = requests.get(url)\n",
        "    data = json.loads(resp.text)\n",
        "    for doc in data['response']['docs']:\n",
        "        print(doc['web_url'])\n",
        "        scraped_data = urllib.request.urlopen(doc['web_url'])  \n",
        "        article = scraped_data.read()\n",
        "\n",
        "        parsed_article = bs.BeautifulSoup(article,'lxml')\n",
        "\n",
        "        paragraphs = parsed_article.find_all('p')\n",
        "\n",
        "        article_text = \"\"\n",
        "\n",
        "        for p in paragraphs:  \n",
        "            article_text += p.text\n",
        "        print(article_text)\n",
        "        print(\"\\n\")\n",
        "        writeFile.write(article_text)\n",
        "        writeFile.write(\"\\n\")\n",
        "\n",
        "writeFile.close()"
      ],
      "execution_count": 0,
      "outputs": []
    }
  ]
}